{
 "cells": [
  {
   "cell_type": "code",
   "execution_count": 1,
   "metadata": {},
   "outputs": [
    {
     "name": "stderr",
     "output_type": "stream",
     "text": [
      "/home/nus-zxl/miniconda3/envs/videosys/lib/python3.10/site-packages/tqdm/auto.py:21: TqdmWarning: IProgress not found. Please update jupyter and ipywidgets. See https://ipywidgets.readthedocs.io/en/stable/user_install.html\n",
      "  from .autonotebook import tqdm as notebook_tqdm\n",
      "/home/nus-zxl/miniconda3/envs/videosys/lib/python3.10/site-packages/huggingface_hub/file_download.py:1142: FutureWarning: `resume_download` is deprecated and will be removed in version 1.0.0. Downloads always resume when possible. If you want to force a new download, use `force_download=True`.\n",
      "  warnings.warn(\n",
      "Loading checkpoint shards: 100%|██████████| 4/4 [00:04<00:00,  1.04s/it]\n",
      "/home/nus-zxl/miniconda3/envs/videosys/lib/python3.10/site-packages/huggingface_hub/file_download.py:1142: FutureWarning: `resume_download` is deprecated and will be removed in version 1.0.0. Downloads always resume when possible. If you want to force a new download, use `force_download=True`.\n",
      "  warnings.warn(\n",
      "Special tokens have been added in the vocabulary, make sure the associated word embeddings are fine-tuned or trained.\n"
     ]
    }
   ],
   "source": [
    "import os\n",
    "os.environ[\"CUDA_VISIBLE_DEVICES\"] = \"6\"\n",
    "\n",
    "from transformers import AutoModelForCausalLM, AutoTokenizer\n",
    "import torch\n",
    "\n",
    "model_name = \"Qwen/Qwen2.5-7B-Instruct\"\n",
    "\n",
    "model = AutoModelForCausalLM.from_pretrained(model_name,torch_dtype=torch.bfloat16).to(\"cuda\")\n",
    "tokenizer = AutoTokenizer.from_pretrained(model_name)"
   ]
  },
  {
   "cell_type": "code",
   "execution_count": 17,
   "metadata": {},
   "outputs": [],
   "source": [
    "system_prompt = \"\"\"\n",
    "\n",
    "You are an advanced language model tasked with processing a news article for the News4Kids project, which visualizes news for children as images with speech bubbles. Your goal is to analyze the news, extract key points, and generate a single, concise prompt for an image generation model (e.g., DALL-E 3) that describes a scene with characters, speech bubbles, and a specific visual style. The prompt must be direct, visually descriptive, and under 150 words to fit the input limits of image generation models.\n",
    "\n",
    "Input: [Insert full news article text here]\n",
    "\n",
    "Instructions:  \n",
    "Analyze the news article and identify the main points (who, what, where, why) suitable for children aged 8–12.  \n",
    "\n",
    "Create 2 short quotes (6 words or fewer each) that convey the key points in a conversational tone, as if spoken by relatable characters.  \n",
    "\n",
    "Design a single image generation prompt that includes:  \n",
    "* A vivid background scene tied to the news topic.  \n",
    "* 1–2 characters (e.g., a kid, a dog) speaking the quotes (2 quotes VERY IMPORTANT!!).  \n",
    "* Exact text for speech bubbles, clearly attributed to each character (VERY IMPORTANT!!).  \n",
    "* A child-friendly visual style.\n",
    "* Ensure the prompt is specific, engaging, and ready for direct use in an image generation model.\n",
    "\n",
    "Output Format:\n",
    "Image Generation Prompt: [Prompt, max 60 words]\n",
    "\"\"\"\n"
   ]
  },
  {
   "cell_type": "code",
   "execution_count": 4,
   "metadata": {},
   "outputs": [
    {
     "name": "stderr",
     "output_type": "stream",
     "text": [
      "Loading checkpoint shards: 100%|██████████| 2/2 [00:00<00:00,  7.42it/s]\n",
      "Loading pipeline components...:  71%|███████▏  | 5/7 [00:00<00:00,  9.12it/s]You set `add_prefix_space`. The tokenizer needs to be converted from the slow tokenizers\n",
      "Loading pipeline components...: 100%|██████████| 7/7 [00:01<00:00,  5.33it/s]\n"
     ]
    }
   ],
   "source": [
    "from diffusers import DiffusionPipeline\n",
    "\n",
    "pipe = DiffusionPipeline.from_pretrained(\"black-forest-labs/FLUX.1-dev\", torch_dtype=torch.bfloat16).to(\"cuda\")"
   ]
  },
  {
   "cell_type": "code",
   "execution_count": 20,
   "metadata": {},
   "outputs": [
    {
     "data": {
      "text/plain": [
       "'In a sunny garden in Singapore, a curious kid and a friendly dog spot a tiny new bug. The kid exclaims, \"Wow, a bug named after Singapore!\" The dog barks, \"Cool! It eats bad bugs too!\" Speech bubbles: Kid: \"Wow, a bug named after Singapore!\" Dog: \"Cool! It eats bad bugs too!\" Vivid background: A colorful garden with a sea hibiscus tree, where the new bug was found. Child-friendly visual style: Bright, cartoonish illustrations with playful details.'"
      ]
     },
     "execution_count": 20,
     "metadata": {},
     "output_type": "execute_result"
    }
   ],
   "source": [
    "prompt = \"\"\"\n",
    "\n",
    "New species of bug discovered, named after Singapore\n",
    "\n",
    "SINGAPORE – A new “Singapore citizen” has been discovered living on the roadside at the National University of Singapore (NUS).\n",
    "\n",
    "Researchers at the Lee Kong Chian Natural History Museum at NUS’ Faculty of Science announced the discovery of a new species of mirid, or plant bug, Campylomma singapura, in a research paper published on March 24.\n",
    "\n",
    "The paper, titled Two Cryptic New Species Of The Plant Bug Genus Campylomma Recently Discovered In Japan And Singapore, was published in science journal Zootaxa. The findings were also announced in a social media post by the museum on April 7.\n",
    "\n",
    "Mirids are small terrestrial insects that typically feed on plants. However, mirids from the genus Campylomma are known to feed on both insects and plants and are sometimes employed as biological control agents against agricultural insect pests for this reason.\n",
    "\n",
    "Campylomma singapura, for instance, has also been observed to feed on thrips – small insects commonly associated with flowers.\n",
    "\n",
    "The new species was co-discovered by Dr Hwang Wei Song, senior curator of insecta at the museum, Dr Tomohide Yasunaga, a world expert on mirids, and self-taught local naturalist Yap Ee Hean.\n",
    "\n",
    "Dr Hwang told The Straits Times that during a survey of local plants on NUS’ campus in August 2023, Dr Yasunaga, whose expertise he had sought in attempting to document the diversity of mirids in Singapore, chanced upon a sea hibiscus tree (Hibiscus tiliaceus) by the roadside near the Ventus building in Kent Ridge Drive.\n",
    "\n",
    "Upon closer inspection, Dr Yasunaga, a research associate at the American Museum of Natural History, found a few mirid bugs on the undersides of the flowers, and collected some samples.\n",
    "\n",
    "In 2024, two other samples were also collected from sea hibiscus plants across the island, and after all were examined closely in the laboratory, it was determined that they were a new species.\n",
    "\n",
    "Dr Hwang said the discovery was based on the study of all 14 specimens collected. He explained that the specimens, measuring around 2mm in length, had to be delicately dissected and meticulously compared with other known species before determining their identity.\n",
    "\n",
    "“This would not have been possible without Dr Yasunaga’s deep knowledge and experience with mirids from this region,” he said.\n",
    "\n",
    "Dr Hwang also mentioned that the new mirid species is likely to have a healthy population living in Singapore, based on the widespread nature of their host plant, the sea hibiscus, throughout the country. This was further evidenced by the two samples collected in 2024, he added.\n",
    "\n",
    "He hailed the discovery as “remarkable” since the species had adapted surprisingly well to local environmental changes while retaining its close relationship with its host plant, and yet had remained undetected until now.\n",
    "\n",
    "Campylomma singapura joins many other species in being named after Singapore. As at 2015, at least 95 species have been named after Singapore, including molluscs, plants and bacteria.\n",
    "\n",
    "Dr Hwang said naming this mirid species was a timely tribute as the country celebrates SG60, its 60th year of independence.\n",
    "\n",
    "“Even for a highly urbanised city, there is still a rich biodiversity living amongst us, and the resilience of our local insect species deserves some recognition,” he said. “This species thus qualifies for a ‘Singaporean citizenship’ in our opinion.”\n",
    "\n",
    "Dr Hwang said the researchers are already planning to tackle another group of mirids.\n",
    "\n",
    "“This region still contains an immense amount of insect diversity but remains highly understudied and under-resourced to address the issue at hand,” he said.\n",
    "\n",
    "\"\"\"\n",
    "messages = [\n",
    "    {\"role\": \"system\", \"content\": system_prompt},\n",
    "    {\"role\": \"user\", \"content\": prompt}\n",
    "]\n",
    "\n",
    "pipe.transformer.to(\"cpu\")\n",
    "model.to(\"cuda\")\n",
    "\n",
    "text = tokenizer.apply_chat_template(\n",
    "    messages,\n",
    "    tokenize=False,\n",
    "    add_generation_prompt=True\n",
    ")\n",
    "model_inputs = tokenizer([text], return_tensors=\"pt\").to(model.device)\n",
    "\n",
    "generated_ids = model.generate(\n",
    "    **model_inputs,\n",
    "    max_new_tokens=512\n",
    ")\n",
    "generated_ids = [\n",
    "    output_ids[len(input_ids):] for input_ids, output_ids in zip(model_inputs.input_ids, generated_ids)\n",
    "]\n",
    "\n",
    "response = tokenizer.batch_decode(generated_ids, skip_special_tokens=True)[0]\n",
    "response = response.replace(\"Image Generation Prompt: \", \"\")\n",
    "response"
   ]
  },
  {
   "cell_type": "code",
   "execution_count": 21,
   "metadata": {},
   "outputs": [
    {
     "name": "stderr",
     "output_type": "stream",
     "text": [
      "The following part of your input was truncated because CLIP can only handle sequences up to 77 tokens: [': a colorful garden with a sea hibiscus tree, where the new bug was found. child - friendly visual style : bright, cartoonish illustrations with playful details.']\n",
      "100%|██████████| 28/28 [00:20<00:00,  1.40it/s]\n"
     ]
    }
   ],
   "source": [
    "model.to(\"cpu\")\n",
    "pipe.transformer.to(\"cuda\")\n",
    "\n",
    "image = pipe(response, max_sequence_length=256).images[0]\n",
    "\n",
    "image.save(\"image.png\")"
   ]
  }
 ],
 "metadata": {
  "kernelspec": {
   "display_name": "videosys",
   "language": "python",
   "name": "python3"
  },
  "language_info": {
   "codemirror_mode": {
    "name": "ipython",
    "version": 3
   },
   "file_extension": ".py",
   "mimetype": "text/x-python",
   "name": "python",
   "nbconvert_exporter": "python",
   "pygments_lexer": "ipython3",
   "version": "3.10.14"
  }
 },
 "nbformat": 4,
 "nbformat_minor": 2
}
