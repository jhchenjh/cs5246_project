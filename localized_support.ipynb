{
 "cells": [
  {
   "attachments": {},
   "cell_type": "markdown",
   "metadata": {},
   "source": [
    "# Localized Translation"
   ]
  },
  {
   "cell_type": "code",
   "execution_count": null,
   "metadata": {},
   "outputs": [],
   "source": [
    "from transformers import MarianMTModel, MarianTokenizer\n",
    "\n",
    "def translate_text(text, model_name):\n",
    "    tokenizer = MarianTokenizer.from_pretrained(model_name)\n",
    "    model = MarianMTModel.from_pretrained(model_name)\n",
    "    inputs = tokenizer(text, return_tensors=\"pt\", truncation=True)\n",
    "    outputs = model.generate(**inputs)\n",
    "    translation = tokenizer.decode(outputs[0], skip_special_tokens=True)\n",
    "    return translation\n",
    "\n",
    "# Example usage\n",
    "chinese_model = '/Users/bytedance/Desktop/personal/nus/CS5246/projects/provide_support/models/opus-mt-en-zh/' # \"Helsinki-NLP/opus-mt-en-zh\"\n",
    "malay_model = '/Users/bytedance/Desktop/personal/nus/CS5246/projects/provide_support/models/opus-mt-zh-ms' # \"Helsinki-NLP/opus-mt-zh-ms\"\n",
    "\n",
    "# summary_text = \"Singapore's Prime Minister announced new climate policies.\"\n",
    "summary_text = \"Residents in Singapore can expect warm weather accompanied by short thundery showers, primarily during afternoons and occasionally extending into evenings, until the end of April. The Meteorological Service Singapore forecasts daily maximum temperatures between 33°C and 34°C, occasionally reaching 35°C. Sumatra squalls might cause widespread thundery showers and gusty winds during early mornings on certain days. Notably, heavy rainfall occurred in early April, especially around Yishun. Despite frequent rain, temperatures remained high, with Paya Lebar hitting 36.2°C on April 12. Rainfall varied significantly across locations, with Yio Chu Kang experiencing above-average rainfall.\"\n",
    "mandarin_translation = translate_text(summary_text, chinese_model)\n",
    "malay_translation = translate_text(mandarin_translation, malay_model)\n",
    "\n",
    "print(mandarin_translation)\n",
    "print(malay_translation)"
   ]
  },
  {
   "attachments": {},
   "cell_type": "markdown",
   "metadata": {},
   "source": [
    "# Singlish Term Mapping"
   ]
  },
  {
   "cell_type": "code",
   "execution_count": null,
   "metadata": {},
   "outputs": [],
   "source": [
    "import spacy\n",
    "# Load spaCy NER model\n",
    "try:\n",
    "    nlp = spacy.load(\"en_core_web_sm\")\n",
    "except:\n",
    "    from spacy.cli import download\n",
    "    download(\"en_core_web_sm\")\n",
    "    nlp = spacy.load(\"en_core_web_sm\")\n",
    "\n",
    "# Example sentence\n",
    "sentence = \"The weather today is very hot.\"\n",
    "\n",
    "# Rule-based Singlish mapping\n",
    "singlish_dict = {\n",
    "    \"weather\": \"weather\",\n",
    "    \"hot\": \"sibei hot\",\n",
    "    \"very\": \"sibei\",\n",
    "    \"tired\": \"sian\",\n",
    "    \"delicious\": \"shiok\",\n",
    "    \"expensive\": \"atas\",\n",
    "}\n",
    "\n",
    "def ner_singlish(sentence):\n",
    "    doc = nlp(sentence)\n",
    "    singlish_sentence = sentence\n",
    "    for token in doc:\n",
    "        if token.lemma_.lower() in singlish_dict:\n",
    "            singlish_sentence = singlish_sentence.replace(token.text, singlish_dict[token.lemma_.lower()])\n",
    "    return singlish_sentence\n",
    "\n",
    "# Usage example\n",
    "singlish_output = ner_singlish(sentence)\n",
    "print(singlish_output)"
   ]
  },
  {
   "attachments": {},
   "cell_type": "markdown",
   "metadata": {},
   "source": [
    "# Singlish LLM Rephrasing"
   ]
  },
  {
   "cell_type": "code",
   "execution_count": null,
   "metadata": {},
   "outputs": [],
   "source": [
    "from transformers import pipeline\n",
    "\n",
    "model_name = \"/Users/bytedance/Desktop/personal/nus/CS5246/projects/provide_support/models/danube2-singlish-finetuned\"\n",
    "\n",
    "sentences = [\n",
    "    \"Residents in Singapore can expect hot weather accompanied by short thundery showers, primarily during afternoons and occasionally extending into evenings, until the end of April.\",\n",
    "    \"The Meteorological Service Singapore forecasts daily maximum temperatures between 33°C and 34°C, occasionally reaching 35°C.\",\n",
    "    \"Sumatra squalls might cause widespread thundery showers and gusty winds during early mornings on certain days.\",\n",
    "    \"Notably, heavy rainfall occurred in early April, especially around Yishun. Despite frequent rain, temperatures remained high, with Paya Lebar hitting 36.2°C on April 12.\",\n",
    "    \"Rainfall varied significantly across locations, with Yio Chu Kang experiencing above-average rainfall.\",\n",
    "]\n",
    "\n",
    "generate_text = pipeline(\n",
    "    model=model_name,\n",
    "    torch_dtype=\"auto\",\n",
    "    trust_remote_code=True,\n",
    "    use_fast=True,\n",
    "    token=True,\n",
    ")\n",
    "\n",
    "for sentence in sentences:\n",
    "    prompt = \"Translate the following to Singlish: \" + sentence + '\\n'\n",
    "    res = generate_text(\n",
    "        prompt,\n",
    "        min_new_tokens=2,\n",
    "        max_new_tokens=256,\n",
    "        do_sample=True,\n",
    "        num_beams=3,\n",
    "        temperature=float(0.8),\n",
    "        repetition_penalty=float(1.0),\n",
    "        renormalize_logits=True\n",
    "    )\n",
    "    print(res[0][\"generated_text\"])"
   ]
  }
 ],
 "metadata": {
  "kernelspec": {
   "display_name": "Python 3",
   "language": "python",
   "name": "python3"
  },
  "language_info": {
   "codemirror_mode": {
    "name": "ipython",
    "version": 3
   },
   "file_extension": ".py",
   "mimetype": "text/x-python",
   "name": "python",
   "nbconvert_exporter": "python",
   "pygments_lexer": "ipython3",
   "version": "3.9.6"
  },
  "orig_nbformat": 4,
  "vscode": {
   "interpreter": {
    "hash": "31f2aee4e71d21fbe5cf8b01ff0e069b9275f58929596ceb00d14d90e3e16cd6"
   }
  }
 },
 "nbformat": 4,
 "nbformat_minor": 2
}
